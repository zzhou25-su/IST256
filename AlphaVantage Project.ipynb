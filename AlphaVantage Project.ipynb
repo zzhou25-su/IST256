{
 "cells": [
  {
   "cell_type": "code",
   "execution_count": 1,
   "metadata": {},
   "outputs": [
    {
     "name": "stdout",
     "output_type": "stream",
     "text": [
      "Collecting alpha_vantage\n",
      "  Downloading https://files.pythonhosted.org/packages/28/d1/9bfa84a2e3964e415a55f948dd6342d1ca4fc19eac76247f4447f62b4b90/alpha_vantage-2.1.2.tar.gz\n",
      "Requirement already satisfied: requests in /opt/conda/lib/python3.7/site-packages (from alpha_vantage) (2.22.0)\n",
      "Requirement already satisfied: certifi>=2017.4.17 in /opt/conda/lib/python3.7/site-packages (from requests->alpha_vantage) (2019.6.16)\n",
      "Requirement already satisfied: urllib3!=1.25.0,!=1.25.1,<1.26,>=1.21.1 in /opt/conda/lib/python3.7/site-packages (from requests->alpha_vantage) (1.24.2)\n",
      "Requirement already satisfied: idna<2.9,>=2.5 in /opt/conda/lib/python3.7/site-packages (from requests->alpha_vantage) (2.8)\n",
      "Requirement already satisfied: chardet<3.1.0,>=3.0.2 in /opt/conda/lib/python3.7/site-packages (from requests->alpha_vantage) (3.0.4)\n",
      "Building wheels for collected packages: alpha-vantage\n",
      "  Building wheel for alpha-vantage (setup.py) ... \u001b[?25ldone\n",
      "\u001b[?25h  Stored in directory: /home/jovyan/.cache/pip/wheels/bb/22/da/426cbebbe36cf3c0fd433d279f670cadfa27cc3343303cdf36\n",
      "Successfully built alpha-vantage\n",
      "Installing collected packages: alpha-vantage\n",
      "Successfully installed alpha-vantage-2.1.2\n",
      "Requirement already satisfied: seaborn in /opt/conda/lib/python3.7/site-packages (0.9.0)\n",
      "Requirement already satisfied: numpy>=1.9.3 in /opt/conda/lib/python3.7/site-packages (from seaborn) (1.17.1)\n",
      "Requirement already satisfied: scipy>=0.14.0 in /opt/conda/lib/python3.7/site-packages (from seaborn) (1.3.1)\n",
      "Requirement already satisfied: matplotlib>=1.4.3 in /opt/conda/lib/python3.7/site-packages (from seaborn) (3.1.1)\n",
      "Requirement already satisfied: pandas>=0.15.2 in /opt/conda/lib/python3.7/site-packages (from seaborn) (0.25.1)\n",
      "Requirement already satisfied: cycler>=0.10 in /opt/conda/lib/python3.7/site-packages (from matplotlib>=1.4.3->seaborn) (0.10.0)\n",
      "Requirement already satisfied: kiwisolver>=1.0.1 in /opt/conda/lib/python3.7/site-packages (from matplotlib>=1.4.3->seaborn) (1.1.0)\n",
      "Requirement already satisfied: python-dateutil>=2.1 in /opt/conda/lib/python3.7/site-packages (from matplotlib>=1.4.3->seaborn) (2.8.0)\n",
      "Requirement already satisfied: pyparsing!=2.0.4,!=2.1.2,!=2.1.6,>=2.0.1 in /opt/conda/lib/python3.7/site-packages (from matplotlib>=1.4.3->seaborn) (2.4.2)\n",
      "Requirement already satisfied: pytz>=2017.2 in /opt/conda/lib/python3.7/site-packages (from pandas>=0.15.2->seaborn) (2019.2)\n",
      "Requirement already satisfied: six in /opt/conda/lib/python3.7/site-packages (from cycler>=0.10->matplotlib>=1.4.3->seaborn) (1.12.0)\n",
      "Requirement already satisfied: setuptools in /opt/conda/lib/python3.7/site-packages (from kiwisolver>=1.0.1->matplotlib>=1.4.3->seaborn) (41.0.1)\n",
      "Requirement already satisfied: pandas_datareader in /opt/conda/lib/python3.7/site-packages (0.8.1)\n",
      "Requirement already satisfied: pandas>=0.21 in /opt/conda/lib/python3.7/site-packages (from pandas_datareader) (0.25.1)\n",
      "Requirement already satisfied: lxml in /opt/conda/lib/python3.7/site-packages (from pandas_datareader) (4.4.1)\n",
      "Requirement already satisfied: requests>=2.3.0 in /opt/conda/lib/python3.7/site-packages (from pandas_datareader) (2.22.0)\n",
      "Requirement already satisfied: numpy>=1.13.3 in /opt/conda/lib/python3.7/site-packages (from pandas>=0.21->pandas_datareader) (1.17.1)\n",
      "Requirement already satisfied: python-dateutil>=2.6.1 in /opt/conda/lib/python3.7/site-packages (from pandas>=0.21->pandas_datareader) (2.8.0)\n",
      "Requirement already satisfied: pytz>=2017.2 in /opt/conda/lib/python3.7/site-packages (from pandas>=0.21->pandas_datareader) (2019.2)\n",
      "Requirement already satisfied: urllib3!=1.25.0,!=1.25.1,<1.26,>=1.21.1 in /opt/conda/lib/python3.7/site-packages (from requests>=2.3.0->pandas_datareader) (1.24.2)\n",
      "Requirement already satisfied: chardet<3.1.0,>=3.0.2 in /opt/conda/lib/python3.7/site-packages (from requests>=2.3.0->pandas_datareader) (3.0.4)\n",
      "Requirement already satisfied: idna<2.9,>=2.5 in /opt/conda/lib/python3.7/site-packages (from requests>=2.3.0->pandas_datareader) (2.8)\n",
      "Requirement already satisfied: certifi>=2017.4.17 in /opt/conda/lib/python3.7/site-packages (from requests>=2.3.0->pandas_datareader) (2019.6.16)\n",
      "Requirement already satisfied: six>=1.5 in /opt/conda/lib/python3.7/site-packages (from python-dateutil>=2.6.1->pandas>=0.21->pandas_datareader) (1.12.0)\n"
     ]
    }
   ],
   "source": [
    "!pip install alpha_vantage\n",
    "!pip install seaborn\n",
    "!pip install pandas_datareader"
   ]
  },
  {
   "cell_type": "code",
   "execution_count": 2,
   "metadata": {},
   "outputs": [],
   "source": [
    "%matplotlib inline\n",
    "import pandas as pd\n",
    "import matplotlib.pyplot as plt\n",
    "import numpy as np\n",
    "from alpha_vantage.timeseries import TimeSeries\n",
    "from pandas import Series, DataFrame\n",
    "import seaborn as sns\n",
    "from pandas_datareader import data\n",
    "from datetime import datetime"
   ]
  },
  {
   "cell_type": "code",
   "execution_count": 11,
   "metadata": {},
   "outputs": [
    {
     "name": "stdout",
     "output_type": "stream",
     "text": [
      "Enter stock ticker or 'continue' for index data: FB\n"
     ]
    }
   ],
   "source": [
    "user_stock = input(\"Enter stock ticker or 'continue' for index data: \")\n",
    "if user_stock == 'continue':\n",
    "    new_symbol = '^GSPC'\n",
    "else:\n",
    "    new_symbol = user_stock.upper()"
   ]
  },
  {
   "cell_type": "code",
   "execution_count": 12,
   "metadata": {},
   "outputs": [],
   "source": [
    "ts = TimeSeries(key='06Y2VN2KRRA3ZF5Y', output_format='pandas')\n",
    "try:\n",
    "    stock_data, stock_meta_data = ts.get_daily(symbol=new_symbol, outputsize='full')\n",
    "except ValueError:\n",
    "    print('ValueError: Please try a different stock ticker')\n",
    "except NameError:\n",
    "    print('NameError: Try Again')\n",
    "\n",
    "closing_df = stock_data['4. close']\n",
    "    \n",
    "beg = stock_data['4. close'][-1]\n",
    "end = stock_data['4. close'][0]\n"
   ]
  },
  {
   "cell_type": "code",
   "execution_count": 13,
   "metadata": {},
   "outputs": [
    {
     "name": "stdout",
     "output_type": "stream",
     "text": [
      "-0.3334\n"
     ]
    }
   ],
   "source": [
    "#These are the returns for the past eleven market corrections.\n",
    "bear_returns = [(-.2163), (-.2797), (-.2218), (-.3606),\n",
    "                (-.4820), (-.2711), (-.3351), (-.3677),\n",
    "                (-.3375),(-.5193), (-.2762)]\n",
    "\n",
    "avg_drop = sum(bear_returns) / len(bear_returns)\n",
    "print('%.4f' % avg_drop)"
   ]
  },
  {
   "cell_type": "code",
   "execution_count": 14,
   "metadata": {},
   "outputs": [
    {
     "name": "stdout",
     "output_type": "stream",
     "text": [
      "Relative Market High: 217.5\n"
     ]
    }
   ],
   "source": [
    "period_max =closing_df.max()\n",
    "print(f\"Relative Market High:\", period_max)"
   ]
  },
  {
   "cell_type": "code",
   "execution_count": 15,
   "metadata": {},
   "outputs": [
    {
     "name": "stdout",
     "output_type": "stream",
     "text": [
      "144.9875\n"
     ]
    }
   ],
   "source": [
    "indicator = period_max + (period_max * avg_drop)\n",
    "print('%.4f' % indicator)\n",
    "#If the S&P500 hits this mark we will know the market has reached its low"
   ]
  },
  {
   "cell_type": "code",
   "execution_count": 16,
   "metadata": {},
   "outputs": [
    {
     "name": "stdout",
     "output_type": "stream",
     "text": [
      "Market could be overpriced\n"
     ]
    }
   ],
   "source": [
    "#set alert\n",
    "if end <= indicator:\n",
    "    print('Market is at a relative low; time to buy!')\n",
    "else:\n",
    "    print('Market could be overpriced')"
   ]
  },
  {
   "cell_type": "code",
   "execution_count": 17,
   "metadata": {},
   "outputs": [
    {
     "data": {
      "image/png": "[encoded data removed]",
      "text/plain": [
       "<Figure size 432x288 with 1 Axes>"
      ]
     },
     "metadata": {
      "needs_background": "light"
     },
     "output_type": "display_data"
    }
   ],
   "source": [
    "stock_data['4. close'].plot()\n",
    "plt.axhline(indicator, color='red')\n",
    "plt.title('20 Years of Equity Market Returns')\n",
    "plt.show()"
   ]
  },
  {
   "cell_type": "code",
   "execution_count": 18,
   "metadata": {},
   "outputs": [
    {
     "data": {
      "text/plain": [
       "<matplotlib.axes._subplots.AxesSubplot at 0x7fe59f464dd8>"
      ]
     },
     "execution_count": 18,
     "metadata": {},
     "output_type": "execute_result"
    },
    {
     "data": {
      "image/png": "[encoded data removed]",
      "text/plain": [
       "<Figure size 432x288 with 1 Axes>"
      ]
     },
     "metadata": {
      "needs_background": "light"
     },
     "output_type": "display_data"
    }
   ],
   "source": [
    "#The daily return measures the dollar change in a stock’s price as a percentage of the previous day’s closing price. \n",
    "#A positive return means the stock has grown in value, while a negative return means it has lost value. \n",
    "#A stock with lower positive and negative daily returns is typically less risky than a stock with higher daily returns, which create larger swings in value.\n",
    "stock_data['Daily Return']=stock_data['4. close'].pct_change()\n",
    "\n",
    "sns.distplot(stock_data['Daily Return'].dropna(),bins=100,color='blue')"
   ]
  },
  {
   "cell_type": "code",
   "execution_count": null,
   "metadata": {},
   "outputs": [],
   "source": []
  }
 ],
 "metadata": {
  "kernelspec": {
   "display_name": "Python 3",
   "language": "python",
   "name": "python3"
  },
  "language_info": {
   "codemirror_mode": {
    "name": "ipython",
    "version": 3
   },
   "file_extension": ".py",
   "mimetype": "text/x-python",
   "name": "python",
   "nbconvert_exporter": "python",
   "pygments_lexer": "ipython3",
   "version": "3.7.3"
  }
 },
 "nbformat": 4,
 "nbformat_minor": 2
}
