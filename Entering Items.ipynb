{
 "cells": [
  {
   "cell_type": "code",
   "execution_count": 1,
   "metadata": {},
   "outputs": [
    {
     "name": "stdout",
     "output_type": "stream",
     "text": [
      "Enter a number or say 'done': 4\n",
      "Enter a number or say 'done': 5\n",
      "Enter a number or say 'done': 8\n",
      "Enter a number or say 'done': mike\n",
      "Invalid input\n",
      "Enter a number or say 'done': 17\n",
      "Enter a number or say 'done': done\n",
      "34.0 4 8.5\n"
     ]
    }
   ],
   "source": [
    "count = 0\n",
    "total = 0\n",
    "\n",
    "while True:\n",
    "    try:\n",
    "        number = input(\"Enter a number or say 'done': \")\n",
    "        if number == 'done':\n",
    "            break\n",
    "        value = float(number)\n",
    "        total = value + total\n",
    "        count = count + 1\n",
    "        average = total / count\n",
    "    except:\n",
    "        print('Invalid input')\n",
    "print(total, count, average)\n",
    "        "
   ]
  },
  {
   "cell_type": "code",
   "execution_count": null,
   "metadata": {},
   "outputs": [],
   "source": []
  }
 ],
 "metadata": {
  "kernelspec": {
   "display_name": "Python 3",
   "language": "python",
   "name": "python3"
  },
  "language_info": {
   "codemirror_mode": {
    "name": "ipython",
    "version": 3
   },
   "file_extension": ".py",
   "mimetype": "text/x-python",
   "name": "python",
   "nbconvert_exporter": "python",
   "pygments_lexer": "ipython3",
   "version": "3.7.3"
  }
 },
 "nbformat": 4,
 "nbformat_minor": 2
}
