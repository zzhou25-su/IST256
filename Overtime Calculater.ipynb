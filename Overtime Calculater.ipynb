{
 "cells": [
  {
   "cell_type": "code",
   "execution_count": 7,
   "metadata": {},
   "outputs": [
    {
     "name": "stdout",
     "output_type": "stream",
     "text": [
      "Enter your hours worked: 50\n",
      "Enter your hourly rate: 25\n"
     ]
    },
    {
     "data": {
      "text/plain": [
       "1375.0"
      ]
     },
     "execution_count": 7,
     "metadata": {},
     "output_type": "execute_result"
    }
   ],
   "source": [
    "hours = int(input(\"Enter your hours worked: \"))\n",
    "rate = int(input('Enter your hourly rate: '))\n",
    "\n",
    "def computepay(hours, rate):\n",
    "    if hours > 40:\n",
    "        overtime_hours = hours - 40\n",
    "        overtime_rate = 1.5 * rate\n",
    "        overtime_pay = overtime_hours * overtime_rate\n",
    "        total_pay = (40 * rate) + overtime_pay\n",
    "        return total_pay\n",
    "    \n",
    "    if hours <= 40:\n",
    "        total_pay = hours * rate\n",
    "        return total_pay\n",
    "\n",
    "computepay(hours, rate)"
   ]
  },
  {
   "cell_type": "code",
   "execution_count": null,
   "metadata": {},
   "outputs": [],
   "source": []
  }
 ],
 "metadata": {
  "kernelspec": {
   "display_name": "Python 3",
   "language": "python",
   "name": "python3"
  },
  "language_info": {
   "codemirror_mode": {
    "name": "ipython",
    "version": 3
   },
   "file_extension": ".py",
   "mimetype": "text/x-python",
   "name": "python",
   "nbconvert_exporter": "python",
   "pygments_lexer": "ipython3",
   "version": "3.7.3"
  }
 },
 "nbformat": 4,
 "nbformat_minor": 2
}
